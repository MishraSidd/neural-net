{
 "cells": [
  {
   "cell_type": "markdown",
   "id": "ed03c3a2",
   "metadata": {},
   "source": [
    "## Predicting whether a person has diabetes based on certain health metrics."
   ]
  },
  {
   "cell_type": "code",
   "execution_count": 1,
   "id": "840c0810",
   "metadata": {},
   "outputs": [],
   "source": [
    "import numpy as np\n",
    "import pandas as pd\n",
    "import matplotlib.pyplot as plt\n",
    "from matplotlib.animation import FuncAnimation\n",
    "from sklearn.model_selection import train_test_split\n",
    "from sklearn.preprocessing import StandardScaler\n",
    "from tqdm import tqdm\n",
    "from datetime import datetime"
   ]
  },
  {
   "cell_type": "code",
   "execution_count": 2,
   "id": "93a0143b",
   "metadata": {},
   "outputs": [],
   "source": [
    "def g(z):\n",
    "    return 1 / (1 + np.exp(-z))\n",
    "\n",
    "def f_x(a_out):\n",
    "    return g(a_out)\n",
    "\n",
    "def dense(a_in, W,b):\n",
    "    units = W.shape[1]\n",
    "    a_out = np.zeros(units)\n",
    "    for j in range(units):\n",
    "        w = W[:,j]\n",
    "        z = np.dot(w,a_in) + b[j]\n",
    "        a_out[j] = g(z)\n",
    "    return a_out\n",
    "\n",
    "def forward_pass(x, W1, b1, W2, b2, W3, b3, W4, b4):\n",
    "    a1 = dense(x, W1, b1)\n",
    "    a2 = dense(a1, W2, b2)\n",
    "    a3 = dense(a2, W3, b3)\n",
    "    a4 = dense(a3, W4, b4)\n",
    "    return a1, a2, a3, a4\n",
    "\n",
    "def binary_cross_entropy(y_true, y_pred):\n",
    "    return - (y_true * np.log(y_pred) + (1 - y_true) * np.log(1 - y_pred))\n",
    "\n",
    "def backward_pass(x, y, a1, a2, a3, a4, W1, b1, W2, b2, W3, b3, W4, b4, learning_rate):\n",
    "    # Gradients of loss with respect to output\n",
    "    dL_da4 = a4 - y\n",
    "    \n",
    "    # Layer 4 gradients\n",
    "    da4_dz4 = a4 * (1 - a4)\n",
    "    dz4_dW4 = np.outer(a3, dL_da4 * da4_dz4)\n",
    "    dz4_db4 = dL_da4 * da4_dz4\n",
    "    \n",
    "    # Update parameters for layer 4\n",
    "    W4 -= learning_rate * dz4_dW4\n",
    "    b4 -= learning_rate * dz4_db4\n",
    "\n",
    "    # Layer 3 gradients\n",
    "    dL_da3 = np.dot(W4, dL_da4 * da4_dz4)\n",
    "    da3_dz3 = a3 * (1 - a3)\n",
    "    dz3_dW3 = np.outer(a2, dL_da3 * da3_dz3)\n",
    "    dz3_db3 = dL_da3 * da3_dz3\n",
    "\n",
    "    # Update parameters for layer 3\n",
    "    W3 -= learning_rate * dz3_dW3\n",
    "    b3 -= learning_rate * dz3_db3\n",
    "\n",
    "    # Layer 2 gradients\n",
    "    dL_da2 = np.dot(W3, dL_da3 * da3_dz3)\n",
    "    da2_dz2 = a2 * (1 - a2)\n",
    "    dz2_dW2 = np.outer(a1, dL_da2 * da2_dz2)\n",
    "    dz2_db2 = dL_da2 * da2_dz2\n",
    "\n",
    "    # Update parameters for layer 2\n",
    "    W2 -= learning_rate * dz2_dW2\n",
    "    b2 -= learning_rate * dz2_db2\n",
    "\n",
    "    # Layer 1 gradients\n",
    "    dL_da1 = np.dot(W2, dL_da2 * da2_dz2)\n",
    "    da1_dz1 = a1 * (1 - a1)\n",
    "    dz1_dW1 = np.outer(x, dL_da1 * da1_dz1)\n",
    "    dz1_db1 = dL_da1 * da1_dz1\n",
    "\n",
    "    # Update parameters for layer 1\n",
    "    W1 -= learning_rate * dz1_dW1\n",
    "    b1 -= learning_rate * dz1_db1\n",
    "\n",
    "    return W1, b1, W2, b2, W3, b3, W4, b4"
   ]
  },
  {
   "cell_type": "markdown",
   "id": "10cf2b03",
   "metadata": {},
   "source": [
    "### Creating the dataset"
   ]
  },
  {
   "cell_type": "code",
   "execution_count": 3,
   "id": "256a0b56",
   "metadata": {},
   "outputs": [],
   "source": [
    "# Load the dataset\n",
    "# url = \"https://raw.githubusercontent.com/jbrownlee/Datasets/master/pima-indians-diabetes.data.csv\"\n",
    "# columns = ['Pregnancies', 'Glucose', 'BloodPressure', 'SkinThickness', 'Insulin', 'BMI',\n",
    "#            'DiabetesPedigreeFunction', 'Age', 'Outcome']\n",
    "# data = pd.read_csv(url, header=None, names=columns)\n",
    "\n",
    "# # Split the data into features and labels\n",
    "# X = data.drop('Outcome', axis=1)\n",
    "# y = data[['Outcome']]\n",
    "\n",
    "# # Split the data into training and testing sets\n",
    "# X_train, X_test, y_train, y_test = train_test_split(X, y, test_size=0.2, random_state=42)"
   ]
  },
  {
   "cell_type": "code",
   "execution_count": 4,
   "id": "90d05141",
   "metadata": {},
   "outputs": [],
   "source": [
    "#Store the dataset\n",
    "# X_train.reset_index(inplace=True,drop=True)\n",
    "# X_test.reset_index(inplace=True,drop=True)\n",
    "# y_train.reset_index(inplace=True,drop=True)\n",
    "# y_test.reset_index(inplace=True,drop=True)\n",
    "\n",
    "# date = datetime.now().strftime('%Y-%m-%d')\n",
    "\n",
    "# X_train.to_csv(f'training_feat_{date}.csv', index=False)\n",
    "# X_test.to_csv(f'testing_feat_{date}.csv', index=False)\n",
    "# y_train.to_csv(f'training_label_{date}.csv', index=False)\n",
    "# y_test.to_csv(f'testing_label_{date}.csv', index=False)"
   ]
  },
  {
   "cell_type": "markdown",
   "id": "aeb4c8d7",
   "metadata": {},
   "source": [
    "### Reading the data"
   ]
  },
  {
   "cell_type": "code",
   "execution_count": 5,
   "id": "fcec5d9b",
   "metadata": {},
   "outputs": [],
   "source": [
    "# date = datetime.now().strftime('%Y-%m-%d')\n",
    "date ='2024-08-02'\n",
    "X_train = pd.read_csv(f'training_feat_{date}.csv', index_col=False)\n",
    "X_test = pd.read_csv(f'testing_feat_{date}.csv', index_col=False)\n",
    "y_train = pd.read_csv(f'training_label_{date}.csv', index_col=False)\n",
    "y_test = pd.read_csv(f'testing_label_{date}.csv', index_col=False)\n",
    "\n",
    "X_train = X_train.values\n",
    "X_test = X_test.values\n",
    "y_train = y_train.values\n",
    "y_test = y_test.values"
   ]
  },
  {
   "cell_type": "code",
   "execution_count": 6,
   "id": "7f3658ab",
   "metadata": {},
   "outputs": [
    {
     "data": {
      "text/plain": [
       "(614, 8)"
      ]
     },
     "execution_count": 6,
     "metadata": {},
     "output_type": "execute_result"
    }
   ],
   "source": [
    "X_train.shape"
   ]
  },
  {
   "cell_type": "code",
   "execution_count": 7,
   "id": "aaca8c32",
   "metadata": {},
   "outputs": [],
   "source": [
    "# Standardize the features\n",
    "scaler = StandardScaler()\n",
    "X_train = scaler.fit_transform(X_train)\n",
    "X_test = scaler.transform(X_test)\n",
    "\n",
    "# Initialize weights and biases for the network layers\n",
    "input_dim = X_train.shape[1]\n",
    "hidden_units1 = 16\n",
    "hidden_units2 = 16\n",
    "hidden_units3 = 8\n",
    "output_units = 1\n",
    "\n",
    "W1 = np.random.randn(input_dim, hidden_units1) * 0.01\n",
    "b1 = np.zeros(hidden_units1)\n",
    "W2 = np.random.randn(hidden_units1, hidden_units2) * 0.01\n",
    "b2 = np.zeros(hidden_units2)\n",
    "W3 = np.random.randn(hidden_units2, hidden_units3) * 0.01\n",
    "b3 = np.zeros(hidden_units3)\n",
    "W4 = np.random.randn(hidden_units3, output_units) * 0.01\n",
    "b4 = np.zeros(output_units)\n",
    "\n",
    "# Learning rate and epochs\n",
    "learning_rate = 0.08\n",
    "epochs = 800"
   ]
  },
  {
   "cell_type": "code",
   "execution_count": 8,
   "id": "4d275c9a",
   "metadata": {},
   "outputs": [
    {
     "name": "stderr",
     "output_type": "stream",
     "text": [
      "C:\\Users\\SiddharthMishra\\AppData\\Local\\Temp\\ipykernel_12764\\334517311.py:9: UserWarning: FigureCanvasAgg is non-interactive, and thus cannot be shown\n",
      "  fig.show()\n",
      "Training: 100%|██████████████████████████████████████████████████████████████████████| 800/800 [01:55<00:00,  6.96it/s]\n"
     ]
    },
    {
     "data": {
      "image/png": "[encoded data removed]",
      "text/plain": [
       "<Figure size 640x480 with 1 Axes>"
      ]
     },
     "metadata": {},
     "output_type": "display_data"
    }
   ],
   "source": [
    "# Initialize the plot\n",
    "plt.ion()\n",
    "fig, ax = plt.subplots()\n",
    "line, = ax.plot([], [], 'r-')\n",
    "ax.set_xlim(0, epochs)\n",
    "ax.set_ylim(0, 1)\n",
    "ax.set_xlabel('Epoch')\n",
    "ax.set_ylabel('Loss')\n",
    "fig.show()\n",
    "\n",
    "losses = []\n",
    "\n",
    "for epoch in tqdm(range(epochs), desc='Training'):\n",
    "    total_loss = 0\n",
    "    for i in range(X_train.shape[0]):\n",
    "        x = X_train[i]\n",
    "        y = y_train[i]\n",
    "        \n",
    "        # Forward pass\n",
    "        a1, a2, a3, a4 = forward_pass(x, W1, b1, W2, b2, W3, b3, W4, b4)\n",
    "        y_pred = a4\n",
    "        \n",
    "        # Calculate loss\n",
    "        loss = binary_cross_entropy(y, y_pred)\n",
    "        total_loss += loss\n",
    "        \n",
    "        # Backward pass and parameter update\n",
    "        W1, b1, W2, b2, W3, b3, W4, b4 = backward_pass(\n",
    "            x, y, a1, a2, a3, a4, W1, b1, W2, b2, W3, b3, W4, b4, learning_rate)\n",
    "    \n",
    "    avg_loss = total_loss / X_train.shape[0]\n",
    "    losses.append(avg_loss)\n",
    "    \n",
    "    # Update the plot\n",
    "    line.set_xdata(np.arange(epoch + 1))\n",
    "    line.set_ydata(losses)\n",
    "    ax.set_ylim(0, max(losses) + 0.1)\n",
    "    fig.canvas.draw()\n",
    "    fig.canvas.flush_events()\n"
   ]
  },
  {
   "cell_type": "code",
   "execution_count": null,
   "id": "88c37324",
   "metadata": {},
   "outputs": [],
   "source": []
  },
  {
   "cell_type": "code",
   "execution_count": null,
   "id": "8ae18f91",
   "metadata": {},
   "outputs": [],
   "source": []
  }
 ],
 "metadata": {
  "kernelspec": {
   "display_name": "Python 3 (ipykernel)",
   "language": "python",
   "name": "python3"
  },
  "language_info": {
   "codemirror_mode": {
    "name": "ipython",
    "version": 3
   },
   "file_extension": ".py",
   "mimetype": "text/x-python",
   "name": "python",
   "nbconvert_exporter": "python",
   "pygments_lexer": "ipython3",
   "version": "3.11.7"
  }
 },
 "nbformat": 4,
 "nbformat_minor": 5
}
